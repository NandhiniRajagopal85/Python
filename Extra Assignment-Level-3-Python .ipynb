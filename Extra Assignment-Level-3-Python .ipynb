{
 "cells": [
  {
   "cell_type": "code",
   "execution_count": 9,
   "id": "abbd65a6",
   "metadata": {},
   "outputs": [
    {
     "name": "stdout",
     "output_type": "stream",
     "text": [
      "value=10\n",
      "correct\n"
     ]
    }
   ],
   "source": [
    "i=int(input(\"value=\"))\n",
    "if(i==10):\n",
    "    print(\"correct\")"
   ]
  },
  {
   "cell_type": "code",
   "execution_count": 11,
   "id": "55a6d1b4",
   "metadata": {},
   "outputs": [
    {
     "name": "stdout",
     "output_type": "stream",
     "text": [
      "Enter the password:HOPE@123\n",
      "Your password is correct\n"
     ]
    }
   ],
   "source": [
    "password=input(\"Enter the password:\")\n",
    "if(password==\"HOPE@123\"):\n",
    "    print(\"Your password is correct\")\n",
    "else:\n",
    "    print(\"Your password is incorrect\")"
   ]
  },
  {
   "cell_type": "code",
   "execution_count": 1,
   "id": "48c3772d",
   "metadata": {},
   "outputs": [
    {
     "name": "stdout",
     "output_type": "stream",
     "text": [
      "Enter the age:20\n"
     ]
    }
   ],
   "source": [
    "age=int(input(\"Enter the age:\"))"
   ]
  },
  {
   "cell_type": "code",
   "execution_count": 2,
   "id": "e2d9902b",
   "metadata": {},
   "outputs": [
    {
     "name": "stdout",
     "output_type": "stream",
     "text": [
      "adult\n"
     ]
    }
   ],
   "source": [
    "if(age<18):\n",
    "    print(\"Children\")\n",
    "elif(age<35):\n",
    "    print(\"adult\")\n",
    "elif(age<59):\n",
    "    print(\"Citizen\")\n",
    "else:\n",
    "    print(\"Senior Citizen\")"
   ]
  },
  {
   "cell_type": "code",
   "execution_count": 12,
   "id": "f09cf82b",
   "metadata": {},
   "outputs": [
    {
     "name": "stdout",
     "output_type": "stream",
     "text": [
      "Enter any number:1\n",
      "positive\n"
     ]
    }
   ],
   "source": [
    "number=int(input(\"Enter any number:\"))\n",
    "if(number>0):\n",
    "    print(\"positive\")\n",
    "else:\n",
    "    print(\"Negative\")"
   ]
  },
  {
   "cell_type": "code",
   "execution_count": 8,
   "id": "31085bca",
   "metadata": {},
   "outputs": [
    {
     "name": "stdout",
     "output_type": "stream",
     "text": [
      "a: 22\n",
      "b: 5\n",
      "No is not divisable by 5: 4.4\n"
     ]
    }
   ],
   "source": [
    "a=22\n",
    "print(\"a:\",a)\n",
    "b=5\n",
    "print(\"b:\",b)\n",
    "Div=a/b\n",
    "print(\"No is not divisable by 5:\",Div)"
   ]
  },
  {
   "cell_type": "code",
   "execution_count": 14,
   "id": "d4f2c639",
   "metadata": {},
   "outputs": [
    {
     "name": "stdout",
     "output_type": "stream",
     "text": [
      "Enter a number to check:22\n",
      "No is not divisible by 5\n"
     ]
    }
   ],
   "source": [
    "a=int(input(\"Enter a number to check:\"))\n",
    "if(a%5==0):\n",
    "    print(\"No is divisible by 5\")\n",
    "else:\n",
    "    print(\"No is not divisible by 5\")"
   ]
  },
  {
   "cell_type": "code",
   "execution_count": null,
   "id": "693f7cea",
   "metadata": {},
   "outputs": [],
   "source": []
  },
  {
   "cell_type": "code",
   "execution_count": null,
   "id": "7ca8662b",
   "metadata": {},
   "outputs": [],
   "source": []
  }
 ],
 "metadata": {
  "kernelspec": {
   "display_name": "Python 3 (ipykernel)",
   "language": "python",
   "name": "python3"
  },
  "language_info": {
   "codemirror_mode": {
    "name": "ipython",
    "version": 3
   },
   "file_extension": ".py",
   "mimetype": "text/x-python",
   "name": "python",
   "nbconvert_exporter": "python",
   "pygments_lexer": "ipython3",
   "version": "3.11.5"
  }
 },
 "nbformat": 4,
 "nbformat_minor": 5
}
