{
 "cells": [
  {
   "cell_type": "code",
   "execution_count": 1,
   "id": "2799b6ff",
   "metadata": {},
   "outputs": [
    {
     "name": "stdout",
     "output_type": "stream",
     "text": [
      "HOPE AI\n"
     ]
    }
   ],
   "source": [
    "print(\"HOPE AI\")"
   ]
  },
  {
   "cell_type": "code",
   "execution_count": 1,
   "id": "3d5a9453",
   "metadata": {},
   "outputs": [
    {
     "name": "stdout",
     "output_type": "stream",
     "text": [
      "Enter your Institute Name?:HOPE AI\n"
     ]
    }
   ],
   "source": [
    "Name=input(\"Enter your Institute Name?:\")"
   ]
  },
  {
   "cell_type": "code",
   "execution_count": 3,
   "id": "f5e5dba0",
   "metadata": {},
   "outputs": [
    {
     "name": "stdout",
     "output_type": "stream",
     "text": [
      "Enter Your Name?:Raj\n",
      "Enter Your age?:15\n",
      "Enter your school name?:Guru School\n",
      "Enter your degree?:B.e CSE\n"
     ]
    }
   ],
   "source": [
    "Name1=input(\"Enter Your Name?:\")\n",
    "Age=input(\"Enter Your age?:\")\n",
    "Schoolname=input(\"Enter your school name?:\")\n",
    "Degree=input(\"Enter your degree?:\")"
   ]
  },
  {
   "cell_type": "markdown",
   "id": "4d89fbb3",
   "metadata": {},
   "source": [
    "#Addition"
   ]
  },
  {
   "cell_type": "code",
   "execution_count": 6,
   "id": "16ca5f32",
   "metadata": {},
   "outputs": [
    {
     "name": "stdout",
     "output_type": "stream",
     "text": [
      "a=43\n",
      "b=34\n",
      "add= 77\n"
     ]
    }
   ],
   "source": [
    "a=int(input(\"a=\"))\n",
    "b=int(input(\"b=\"))\n",
    "add=a+b\n",
    "print(\"add=\",add)"
   ]
  },
  {
   "cell_type": "markdown",
   "id": "e1bb599b",
   "metadata": {},
   "source": [
    "#Subtraction"
   ]
  },
  {
   "cell_type": "code",
   "execution_count": 7,
   "id": "80c021fd",
   "metadata": {},
   "outputs": [
    {
     "name": "stdout",
     "output_type": "stream",
     "text": [
      "a=43\n",
      "b=34\n",
      "sub= 9\n"
     ]
    }
   ],
   "source": [
    "a=int(input(\"a=\"))\n",
    "b=int(input(\"b=\"))\n",
    "Sub=a-b\n",
    "print(\"sub=\",sub)"
   ]
  },
  {
   "cell_type": "markdown",
   "id": "56aefccc",
   "metadata": {},
   "source": [
    "#Multiplication"
   ]
  },
  {
   "cell_type": "code",
   "execution_count": 10,
   "id": "4152affb",
   "metadata": {},
   "outputs": [
    {
     "name": "stdout",
     "output_type": "stream",
     "text": [
      "a=63\n",
      "b=97\n",
      "mul= 6111\n"
     ]
    }
   ],
   "source": [
    "a=int(input(\"a=\"))\n",
    "b=int(input(\"b=\"))\n",
    "mul=a*b\n",
    "print(\"mul=\",mul)"
   ]
  },
  {
   "cell_type": "markdown",
   "id": "657cdfc8",
   "metadata": {},
   "source": [
    "#Division"
   ]
  },
  {
   "cell_type": "code",
   "execution_count": 11,
   "id": "9f790779",
   "metadata": {},
   "outputs": [
    {
     "name": "stdout",
     "output_type": "stream",
     "text": [
      "a=76\n",
      "b=31\n",
      "Float Div= 2.4516129032258065\n"
     ]
    }
   ],
   "source": [
    "a=int(input(\"a=\"))\n",
    "b=int(input(\"b=\"))\n",
    "Div=a/b\n",
    "print(\"Float Div=\",Div)"
   ]
  },
  {
   "cell_type": "markdown",
   "id": "525bed75",
   "metadata": {},
   "source": [
    "#Floor division"
   ]
  },
  {
   "cell_type": "code",
   "execution_count": 12,
   "id": "ce7a338b",
   "metadata": {},
   "outputs": [
    {
     "name": "stdout",
     "output_type": "stream",
     "text": [
      "a=76\n",
      "b=31\n",
      "Floor Div= 2\n"
     ]
    }
   ],
   "source": [
    "a=int(input(\"a=\"))\n",
    "b=int(input(\"b=\"))\n",
    "Div=a//b\n",
    "print(\"Floor Div=\",Div)"
   ]
  },
  {
   "cell_type": "markdown",
   "id": "ef16cadd",
   "metadata": {},
   "source": [
    "#Modulo"
   ]
  },
  {
   "cell_type": "code",
   "execution_count": 13,
   "id": "b3cda17b",
   "metadata": {
    "scrolled": true
   },
   "outputs": [
    {
     "name": "stdout",
     "output_type": "stream",
     "text": [
      "a=76\n",
      "b=31\n",
      "Modulo: 14\n"
     ]
    }
   ],
   "source": [
    "a=int(input(\"a=\"))\n",
    "b=int(input(\"b=\"))\n",
    "Mod=a%b\n",
    "print(\"Modulo:\",Mod)\n"
   ]
  },
  {
   "cell_type": "markdown",
   "id": "34f2eac0",
   "metadata": {},
   "source": [
    "#Power\n"
   ]
  },
  {
   "cell_type": "code",
   "execution_count": 14,
   "id": "248251a7",
   "metadata": {},
   "outputs": [
    {
     "name": "stdout",
     "output_type": "stream",
     "text": [
      "a=4\n",
      "b=4\n",
      "Power: 256\n"
     ]
    }
   ],
   "source": [
    "a=int(input(\"a=\"))\n",
    "b=int(input(\"b=\"))\n",
    "pow=a**b\n",
    "print(\"Power:\",pow)\n"
   ]
  },
  {
   "cell_type": "code",
   "execution_count": null,
   "id": "b9111462",
   "metadata": {},
   "outputs": [],
   "source": []
  }
 ],
 "metadata": {
  "kernelspec": {
   "display_name": "Python 3 (ipykernel)",
   "language": "python",
   "name": "python3"
  },
  "language_info": {
   "codemirror_mode": {
    "name": "ipython",
    "version": 3
   },
   "file_extension": ".py",
   "mimetype": "text/x-python",
   "name": "python",
   "nbconvert_exporter": "python",
   "pygments_lexer": "ipython3",
   "version": "3.11.5"
  }
 },
 "nbformat": 4,
 "nbformat_minor": 5
}
